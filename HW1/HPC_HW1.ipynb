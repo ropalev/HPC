{
 "cells": [
  {
   "cell_type": "code",
   "execution_count": 1,
   "id": "36807ddb",
   "metadata": {},
   "outputs": [],
   "source": [
    "import pandas as pd\n",
    "import numpy as np\n",
    "import re\n",
    "from sklearn.linear_model import LinearRegression"
   ]
  },
  {
   "cell_type": "code",
   "execution_count": 2,
   "id": "cf8d90ae",
   "metadata": {},
   "outputs": [],
   "source": [
    "from IPython.display import display\n",
    "pd.options.display.max_columns = None"
   ]
  },
  {
   "cell_type": "code",
   "execution_count": 3,
   "id": "8790e29e",
   "metadata": {},
   "outputs": [],
   "source": [
    "df1 = pd.read_csv('TOP500_202106.csv', sep=';')\n",
    "df2 = pd.read_csv('development.csv', index_col=0, header=None)"
   ]
  },
  {
   "cell_type": "code",
   "execution_count": 4,
   "id": "c7b4d241",
   "metadata": {},
   "outputs": [],
   "source": [
    "val, xmod = np.array(df2.iloc[:,3].map(lambda x: float(re.findall(r' \\d+.\\d ',x)[0].strip()))), np.array(df2.iloc[:,3].map(lambda x: re.findall(r' \\w+/s',x)[0].strip()))\n",
    "xmod_d = {\n",
    "    'GFlop/s': 10e9,\n",
    "    'TFlop/s': 10e12,\n",
    "    'PFlop/s': 10e15\n",
    "}\n",
    "xmod = [xmod_d[i] for i in xmod]"
   ]
  },
  {
   "cell_type": "code",
   "execution_count": 5,
   "id": "c865d9c1",
   "metadata": {},
   "outputs": [],
   "source": [
    "X = np.array(range(df2.shape[0])).reshape(-1, 1)\n",
    "y = np.log(val * xmod)"
   ]
  },
  {
   "cell_type": "code",
   "execution_count": 6,
   "id": "e21a8d29",
   "metadata": {},
   "outputs": [],
   "source": [
    "linreg = LinearRegression()"
   ]
  },
  {
   "cell_type": "code",
   "execution_count": 7,
   "id": "e46b86ff",
   "metadata": {},
   "outputs": [
    {
     "data": {
      "text/plain": [
       "LinearRegression()"
      ]
     },
     "execution_count": 7,
     "metadata": {},
     "output_type": "execute_result"
    }
   ],
   "source": [
    "linreg.fit(X,y)"
   ]
  },
  {
   "cell_type": "markdown",
   "id": "97ff1c9d",
   "metadata": {},
   "source": [
    "66 соответствует индексу под которым находилась бы запись о 25-10-1"
   ]
  },
  {
   "cell_type": "code",
   "execution_count": 8,
   "id": "5ebf91e8",
   "metadata": {},
   "outputs": [
    {
     "name": "stdout",
     "output_type": "stream",
     "text": [
      "Ожидаемая мощность в 2025 году - 2e+20 Flop/s\n"
     ]
    }
   ],
   "source": [
    "print(f'Ожидаемая мощность в 2025 году - {np.exp(linreg.predict(np.array(66).reshape(-1,1)))[0]:.1} Flop/s')"
   ]
  },
  {
   "cell_type": "code",
   "execution_count": 9,
   "id": "58460567",
   "metadata": {},
   "outputs": [
    {
     "data": {
      "text/plain": [
       "866237.8996187081"
      ]
     },
     "execution_count": 9,
     "metadata": {},
     "output_type": "execute_result"
    }
   ],
   "source": [
    "df1.loc[:,'Power (kW)'] = df1.loc[:,'Power (kW)'].map(lambda x: float(str(x).replace(u'\\xa0', '').replace(',', '.')))\n",
    "#Пустые значения заполним медианой по годам\n",
    "df1.loc[:,'Power (kW)'] = df1.groupby('Year')['Power (kW)'].transform(lambda x: x.fillna(x.mean()))\n",
    "\n",
    "df1.loc[:,'Power (kW)'].sum() "
   ]
  },
  {
   "cell_type": "markdown",
   "id": "85df78ab",
   "metadata": {},
   "source": [
    "Супер компьютеры потребляют примено 0.866 ГВт за час работы"
   ]
  },
  {
   "cell_type": "markdown",
   "id": "a7d9eb7d",
   "metadata": {},
   "source": [
    "оцените какой процент всего производимого на Земле электричества потребляют все компьютеры из top500\n",
    "Предположим что человечество потребляет всю производимую энергию. По открытым данным потребление примерно находится на отметке 26 PWh"
   ]
  },
  {
   "cell_type": "code",
   "execution_count": 16,
   "id": "df9a9fa9",
   "metadata": {},
   "outputs": [
    {
     "data": {
      "text/plain": [
       "2968036529680.365"
      ]
     },
     "execution_count": 16,
     "metadata": {},
     "output_type": "execute_result"
    }
   ],
   "source": [
    "26e15 / 365 / 24"
   ]
  },
  {
   "cell_type": "code",
   "execution_count": 17,
   "id": "78e32cbc",
   "metadata": {},
   "outputs": [
    {
     "data": {
      "text/plain": [
       "0.00028975384615384617"
      ]
     },
     "execution_count": 17,
     "metadata": {},
     "output_type": "execute_result"
    }
   ],
   "source": [
    "0.86e9 / 2968036529680.365"
   ]
  },
  {
   "cell_type": "markdown",
   "id": "811c4a19",
   "metadata": {},
   "source": [
    "Процент потребления электричества суперкомпьютерами от всего производимого - 0.0002"
   ]
  }
 ],
 "metadata": {
  "kernelspec": {
   "display_name": "Python 3",
   "language": "python",
   "name": "python3"
  },
  "language_info": {
   "codemirror_mode": {
    "name": "ipython",
    "version": 3
   },
   "file_extension": ".py",
   "mimetype": "text/x-python",
   "name": "python",
   "nbconvert_exporter": "python",
   "pygments_lexer": "ipython3",
   "version": "3.8.8"
  }
 },
 "nbformat": 4,
 "nbformat_minor": 5
}
